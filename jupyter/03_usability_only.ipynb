{
 "cells": [
  {
   "cell_type": "markdown",
   "metadata": {},
   "source": [
    "# Usability Only\n",
    "This notebook contains analyses restricted to only usability questions."
   ]
  },
  {
   "cell_type": "code",
   "execution_count": 1,
   "metadata": {},
   "outputs": [],
   "source": [
    "%matplotlib inline\n",
    "import pandas as pd\n",
    "import json\n",
    "import numpy as np\n",
    "import matplotlib.pyplot as plt\n",
    "from textwrap import wrap\n",
    "import scipy.stats\n",
    "import numpy as np\n",
    "\n",
    "#Here are the SUS questions on our input data set\n",
    "sus_qs = ['Ease of Use (SUS)-I think that I would like to use this application frequently.',\n",
    "       'Ease of Use (SUS)-I found the application unnecessarily complex.',\n",
    "       'Ease of Use (SUS)-I thought the application was easy to use.',\n",
    "       'Ease of Use (SUS)-I think that I would need the support of a technical person to be able to use this application.',\n",
    "       'Ease of Use (SUS)-I found the various functions in the application were well integrated.',\n",
    "       'Ease of Use (SUS)-I thought there was too much inconsistency in this application.',\n",
    "       'Ease of Use (SUS)-I would imagine that most people would learn to use this application very quickly.',\n",
    "       'Ease of Use (SUS)-I found the application very cumbersome to use.',\n",
    "       'Ease of Use (SUS)-I felt very confident using the application.',\n",
    "       'Ease of Use (SUS)-I needed to learn a lot of things before I could get going with this application.']\n",
    "nasa_qs = ['Cognitive Workload (NASA-TLX)-How mentally demanding was the task?',\n",
    "           'Cognitive Workload (NASA-TLX)-How much time pressure did you feel?',\n",
    "           'Cognitive Workload (NASA-TLX)-How hard did you have to work to accomplish your level of performance?',\n",
    "           'Cognitive Workload (NASA-TLX)-How insecure, discouraged, irritated, stressed, and annoyed were you?',\n",
    "           'Cognitive Workload (NASA-TLX)-How successful were you in accomplishing what you were asked to do?']\n",
    "user_qs = ['User Satisfaction-I believe this medication display would help improve my ability to manage patients’  medications.',\n",
    "             'User Satisfaction-I believe this medication display would aid me in providing a better treatment regimen for my patients.',\n",
    "             'User Satisfaction-I believe this medication display would improve patient outcomes.']\n",
    "\n",
    "main_cohort = pd.read_csv('./data/01_filtered_combined.csv') \n",
    "main_cohort_c = main_cohort[main_cohort['trt']=='control']\n",
    "main_cohort_i = main_cohort[main_cohort['trt']=='intervention']"
   ]
  },
  {
   "cell_type": "markdown",
   "metadata": {},
   "source": [
    "## SUS Composite Scoring\n",
    "SUS stands for system usability score. Using this site as a reference, we implement the SUS score for each individual and then look at a histogram of the SUS scores to determine an appropriate method for inference."
   ]
  },
  {
   "cell_type": "code",
   "execution_count": 5,
   "metadata": {},
   "outputs": [
    {
     "name": "stdout",
     "output_type": "stream",
     "text": [
      "SUS 5 point summary in control group is: \n",
      "**********************************************\n",
      "count    10.000000\n",
      "mean     40.750000\n",
      "std      10.478152\n",
      "min      17.500000\n",
      "25%      38.750000\n",
      "50%      45.000000\n",
      "75%      47.500000\n",
      "max      50.000000\n",
      "dtype: float64\n",
      "\n",
      "\n",
      "SUS 5 point summary in intervention group is: \n",
      "**********************************************\n",
      "count    15.000000\n",
      "mean     48.500000\n",
      "std      13.784049\n",
      "min      20.000000\n",
      "25%      41.250000\n",
      "50%      47.500000\n",
      "75%      55.000000\n",
      "max      75.000000\n",
      "dtype: float64\n"
     ]
    }
   ],
   "source": [
    "\n",
    "#Implement the SUS algorithm on the listwise-deleted data (see above load data section)\n",
    "#calculating the SUS score\n",
    "def scoreResult(x):\n",
    "    if x=='Strongly disagree':\n",
    "        return(1)\n",
    "    elif x=='Somewhat disagree':\n",
    "        return(2)\n",
    "    elif x=='Neither agree nor disagree':\n",
    "        return(3)\n",
    "    elif x=='Somewhat agree':\n",
    "        return(4)\n",
    "    elif x=='Strongly agree':\n",
    "        return(5)       \n",
    "def even_correct(x):\n",
    "    return(5-x)\n",
    "def odd_correct(x):\n",
    "    return(x-1)\n",
    "def susIt(x):\n",
    "    temp = [scoreResult(y) for y in x]\n",
    "    temp_correct = [even_correct(y) if (y % 2 ==0) else odd_correct(y) for y in temp]\n",
    "    result = np.sum(temp_correct)*2.5\n",
    "    return(result)\n",
    "us_control_sus = main_cohort_c[sus_qs]\n",
    "us_interve_sus = main_cohort_i[sus_qs]\n",
    "sus_control = pd.Series(us_control_sus.apply(susIt,axis=1))\n",
    "sus_interve = pd.Series(us_interve_sus.apply(susIt,axis=1))\n",
    "\n",
    "print(\"SUS 5 point summary in control group is: \")\n",
    "print(\"**********************************************\")\n",
    "print(sus_control.describe())\n",
    "print(\"\\n\")\n",
    "print(\"SUS 5 point summary in intervention group is: \")\n",
    "print(\"**********************************************\")\n",
    "print(sus_interve.describe())"
   ]
  },
  {
   "cell_type": "code",
   "execution_count": 6,
   "metadata": {},
   "outputs": [
    {
     "data": {
      "image/png": "[encoded data removed]",
      "text/plain": [
       "<matplotlib.figure.Figure at 0x7f7f45f27160>"
      ]
     },
     "metadata": {},
     "output_type": "display_data"
    }
   ],
   "source": [
    "x = sus_control\n",
    "y = sus_interve\n",
    "\n",
    "bins = np.linspace(0, 105, 33)\n",
    "\n",
    "plt.hist(x, bins, alpha=0.5, label='Control')\n",
    "plt.hist(y, bins, alpha=0.5, label='Intervention')\n",
    "plt.legend(loc='upper left')\n",
    "plt.show()"
   ]
  },
  {
   "cell_type": "code",
   "execution_count": 8,
   "metadata": {},
   "outputs": [
    {
     "name": "stdout",
     "output_type": "stream",
     "text": [
      "Student's t-test restuls: \n",
      "*************************************************\n",
      "Ttest_indResult(statistic=-1.5073232233466802, pvalue=0.14534127955955994)\n"
     ]
    }
   ],
   "source": [
    "import scipy.stats\n",
    "\n",
    "print(\"Student's t-test restuls: \\n*************************************************\")\n",
    "print(scipy.stats.ttest_ind(x,y))"
   ]
  },
  {
   "cell_type": "markdown",
   "metadata": {},
   "source": [
    "## NASA-TLX Composite Scoring Difference"
   ]
  },
  {
   "cell_type": "code",
   "execution_count": null,
   "metadata": {},
   "outputs": [],
   "source": [
    "#Calculating the NASA-TLX\n",
    "def vh(x):\n",
    "    if x=='Very low':\n",
    "        return(1*4) #Note this is 1*4 - I'm equally weighting all questions by 4\n",
    "    elif x=='Somewhat low':\n",
    "        return(2*4) #Note this is 1*4 - I'm equally weighting all questions by 4\n",
    "    elif x=='Neutral':\n",
    "        return(3*4) #Note this is 1*4 - I'm equally weighting all questions by 4\n",
    "    elif x=='Somewhat high':\n",
    "        return(4*4) #Note this is 1*4 - I'm equally weighting all questions by 4\n",
    "    elif x=='Very high':\n",
    "        return(5*4) #Note this is 1*4 - I'm equally weighting all questions by 4\n",
    "def vl(x):\n",
    "    if x=='Very low':\n",
    "        return(5*4) #Note this is 1*4 - I'm equally weighting all questions by 4\n",
    "    elif x=='Somewhat low':\n",
    "        return(4*4) #Note this is 1*4 - I'm equally weighting all questions by 4\n",
    "    elif x=='Neutral':\n",
    "        return(3*4) #Note this is 1*4 - I'm equally weighting all questions by 4\n",
    "    elif x=='Somewhat high':\n",
    "        return(2*4) #Note this is 1*4 - I'm equally weighting all questions by 4\n",
    "    elif x=='Very high':\n",
    "        return(1*4) #Note this is 1*4 - I'm equally weighting all questions by 4\n",
    "\n",
    "us_control_nasa = main_cohort_c[nasa_qs]\n",
    "us_interve_nasa = main_cohort_i[nasa_qs]\n",
    "    \n",
    "nasa_control = us_control_nasa.apply(lambda row: np.sum([vl(row['Cognitive Workload (NASA-TLX)-How mentally demanding was the task?']),\n",
    "                                          vl(row['Cognitive Workload (NASA-TLX)-How much time pressure did you feel?']),\n",
    "                                          vl(row['Cognitive Workload (NASA-TLX)-How hard did you have to work to accomplish your level of performance?']),\n",
    "                                          vl(row['Cognitive Workload (NASA-TLX)-How insecure, discouraged, irritated, stressed, and annoyed were you?']),\n",
    "                                          vh(row['Cognitive Workload (NASA-TLX)-How successful were you in accomplishing what you were asked to do?'])\n",
    "                                          ]),\n",
    "                                     axis=1)\n",
    "\n",
    "nasa_interve = us_interve_nasa.apply(lambda row: np.sum([vl(row['Cognitive Workload (NASA-TLX)-How mentally demanding was the task?']),\n",
    "                                          vl(row['Cognitive Workload (NASA-TLX)-How much time pressure did you feel?']),\n",
    "                                          vl(row['Cognitive Workload (NASA-TLX)-How hard did you have to work to accomplish your level of performance?']),\n",
    "                                          vl(row['Cognitive Workload (NASA-TLX)-How insecure, discouraged, irritated, stressed, and annoyed were you?']),\n",
    "                                          vh(row['Cognitive Workload (NASA-TLX)-How successful were you in accomplishing what you were asked to do?'])\n",
    "                                          ]),\n",
    "                                     axis=1)\n",
    "\n",
    "print(\"NASA 5 point summary in control group is: \")\n",
    "print(\"**********************************************\")\n",
    "print(nasa_control.describe())\n",
    "print(\"\\n\")\n",
    "print(\"NASA 5 point summary in intervention group is: \")\n",
    "print(\"**********************************************\")\n",
    "print(nasa_interve.describe())"
   ]
  },
  {
   "cell_type": "code",
   "execution_count": 10,
   "metadata": {},
   "outputs": [
    {
     "data": {
      "image/png": "[encoded data removed]",
      "text/plain": [
       "<matplotlib.figure.Figure at 0x7f7f43d39160>"
      ]
     },
     "metadata": {},
     "output_type": "display_data"
    }
   ],
   "source": [
    "\n",
    "x = nasa_control\n",
    "y = nasa_interve\n",
    "\n",
    "bins = np.linspace(0, 105, 25)\n",
    "\n",
    "plt.hist(x, bins, alpha=0.5, label='Control')\n",
    "plt.hist(y, bins, alpha=0.5, label='Intervention')\n",
    "plt.legend(loc='upper left')\n",
    "plt.show()"
   ]
  },
  {
   "cell_type": "code",
   "execution_count": 11,
   "metadata": {},
   "outputs": [
    {
     "name": "stdout",
     "output_type": "stream",
     "text": [
      "Student's t-test restuls: \n",
      "*************************************************\n",
      "Ttest_indResult(statistic=-1.9957020007630728, pvalue=0.057941731184653365)\n"
     ]
    }
   ],
   "source": [
    "print(\"Student's t-test restuls: \\n*************************************************\")\n",
    "print(scipy.stats.ttest_ind(x,y))"
   ]
  },
  {
   "cell_type": "markdown",
   "metadata": {},
   "source": [
    "## User Satisfaction"
   ]
  },
  {
   "cell_type": "code",
   "execution_count": 12,
   "metadata": {},
   "outputs": [
    {
     "name": "stdout",
     "output_type": "stream",
     "text": [
      "User Satisfaction Control - Descriptive Stats: \n",
      "count    10.000000\n",
      "mean      8.900000\n",
      "std       4.840799\n",
      "min       3.000000\n",
      "25%       4.500000\n",
      "50%       9.000000\n",
      "75%      12.750000\n",
      "max      15.000000\n",
      "dtype: float64\n",
      "User Satisfaction Intervention - Descriptive Stats: \n",
      "count    15.000000\n",
      "mean     11.266667\n",
      "std       3.731462\n",
      "min       5.000000\n",
      "25%       8.500000\n",
      "50%      12.000000\n",
      "75%      15.000000\n",
      "max      15.000000\n",
      "dtype: float64\n"
     ]
    }
   ],
   "source": [
    "\n",
    "def vh_user(x):\n",
    "    if x=='Strongly disagree':\n",
    "        return(1) #Note this is 1*4 - I'm equally weighting all questions by 4\n",
    "    elif x=='Somewhat disagree':\n",
    "        return(2) #Note this is 1*4 - I'm equally weighting all questions by 4\n",
    "    elif x=='Neither agree nor disagree':\n",
    "        return(3) #Note this is 1*4 - I'm equally weighting all questions by 4\n",
    "    elif x=='Somewhat agree':\n",
    "        return(4) #Note this is 1*4 - I'm equally weighting all questions by 4\n",
    "    elif x=='Strongly agree':\n",
    "        return(5) #Note this is 1*4 - I'm equally weighting all questions by 4\n",
    "\n",
    "us_control_user = main_cohort_c[user_qs]\n",
    "us_interve_user = main_cohort_i[user_qs]\n",
    "    \n",
    "user_control = us_control_user.apply(lambda row: np.sum([vh_user(row['User Satisfaction-I believe this medication display would help improve my ability to manage patients’  medications.']),\n",
    "                                          vh_user(row['User Satisfaction-I believe this medication display would aid me in providing a better treatment regimen for my patients.']),\n",
    "                                          vh_user(row['User Satisfaction-I believe this medication display would improve patient outcomes.'])\n",
    "                                          ]),\n",
    "                                     axis=1)\n",
    "user_interve = us_interve_user.apply(lambda row: np.sum([vh_user(row['User Satisfaction-I believe this medication display would help improve my ability to manage patients’  medications.']),\n",
    "                                          vh_user(row['User Satisfaction-I believe this medication display would aid me in providing a better treatment regimen for my patients.']),\n",
    "                                          vh_user(row['User Satisfaction-I believe this medication display would improve patient outcomes.'])\n",
    "                                          ]),\n",
    "                                     axis=1)\n",
    "print('User Satisfaction Control - Descriptive Stats: ')\n",
    "print(user_control.describe())\n",
    "print('User Satisfaction Intervention - Descriptive Stats: ')\n",
    "print(user_interve.describe())"
   ]
  },
  {
   "cell_type": "code",
   "execution_count": 13,
   "metadata": {},
   "outputs": [
    {
     "name": "stdout",
     "output_type": "stream",
     "text": [
      "Student's t-test restuls: \n",
      "*************************************************\n",
      "Ttest_indResult(statistic=-1.3800752888428749, pvalue=0.18083189295900551)\n"
     ]
    }
   ],
   "source": [
    "print(\"Student's t-test restuls: \\n*************************************************\")\n",
    "print(scipy.stats.ttest_ind(user_control,user_interve))"
   ]
  },
  {
   "cell_type": "code",
   "execution_count": null,
   "metadata": {},
   "outputs": [],
   "source": []
  }
 ],
 "metadata": {
  "kernelspec": {
   "display_name": "Python 3",
   "language": "python",
   "name": "python3"
  },
  "language_info": {
   "codemirror_mode": {
    "name": "ipython",
    "version": 3
   },
   "file_extension": ".py",
   "mimetype": "text/x-python",
   "name": "python",
   "nbconvert_exporter": "python",
   "pygments_lexer": "ipython3",
   "version": "3.5.2"
  }
 },
 "nbformat": 4,
 "nbformat_minor": 2
}
