{
 "cells": [
  {
   "cell_type": "markdown",
   "metadata": {},
   "source": [
    "# Data Explore\n",
    "The purpose of this notebook is to begin our initial investigation into the KAIRX resident experiment. We will see how many records we have, how many records we can match across surveys, and plausible analyses to complete"
   ]
  },
  {
   "cell_type": "code",
   "execution_count": 7,
   "metadata": {},
   "outputs": [
    {
     "name": "stdout",
     "output_type": "stream",
     "text": [
      "('Clinical Questionairre Control (n=', 14, '). There are ', 12, ' valid email addresses to merge to.')\n",
      "('Clinical Questionairre Intervention (n=', 17, '). There are ', 17, ' valid email addresses to merge to.')\n",
      "('Usability Questionairre Intervention (n=', 11, '). There are ', 11, ' valid email addresses to merge to.')\n",
      "('Usability Questionairre Intervention (n=', 16, '). There are ', 16, ' valid email addresses to merge to.')\n"
     ]
    }
   ],
   "source": [
    "%matplotlib inline\n",
    "import pandas as pd\n",
    "import json\n",
    "import numpy as np\n",
    "import matplotlib.pyplot as plt\n",
    "from textwrap import wrap\n",
    "\n",
    "cq_control = pd.read_csv(header=0,filepath_or_buffer=open(\"./data/KaiRx+Clinical+Questionnaire+-+Control_undefined.csv\",\"rb\"))\n",
    "cq_control['trt'] = 'control'\n",
    "np.sum(~pd.isnull(cq_control['Please enter your Duke email address:']))\n",
    "print('Clinical Questionairre Control (n=', \n",
    "      cq_control.shape[0], \n",
    "      '). There are ', \n",
    "      np.sum(~pd.isnull(cq_control['Please enter your Duke email address:'])),\n",
    "     ' valid email addresses to merge to.')\n",
    "cq_interve = pd.read_csv(header=0,filepath_or_buffer=open(\"./data/KaiRx+Clinical+Questionnaire+-+Intervention_undefined.csv\",\"rb\"))\n",
    "cq_interve['trt'] = 'intervention'\n",
    "print('Clinical Questionairre Intervention (n=', \n",
    "      cq_interve.shape[0], \n",
    "      '). There are ', \n",
    "      np.sum(~pd.isnull(cq_interve['Please enter your Duke email address:'])),\n",
    "     ' valid email addresses to merge to.')\n",
    "\n",
    "#Clinical questionairre data\n",
    "cq = cq_control.append(cq_interve)\n",
    "\n",
    "\n",
    "us_control = pd.read_csv(header=0,filepath_or_buffer=open(\"./data/KaiRx+Usability+Survey+and+Feedback+-+Control_undefined.csv\",\"rb\"))\n",
    "us_control['trt'] = 'control'\n",
    "print('Usability Questionairre Control (n=', \n",
    "      us_control.shape[0], \n",
    "      '). There are ', \n",
    "      np.sum(~pd.isnull(us_control['Email address:'])),\n",
    "     ' valid email addresses to merge to.')\n",
    "us_interve = pd.read_csv(header=0,filepath_or_buffer=open(\"./data/KaiRx+Usability+Survey+and+Feedback+-+Intervention_undefined.csv\",\"rb\"))\n",
    "us_interve['trt'] = 'intervention'\n",
    "print('Usability Questionairre Intervention (n=', \n",
    "      us_interve.shape[0], \n",
    "      '). There are ', \n",
    "      np.sum(~pd.isnull(us_interve['Email address:'])),\n",
    "     ' valid email addresses to merge to.')\n",
    "\n",
    "us = us_control.append(us_interve)"
   ]
  },
  {
   "cell_type": "markdown",
   "metadata": {},
   "source": [
    "> #### Results\n",
    "From above, we can see that we have a total of (14+17=31) clinical questionairre records. *However*, it appears that we're missing two email addresses, so these two records will have to be dropped if we try to merge with the usability questionairre. We also find that we have (11+16=27) usability records. It appears that there are only 11 usability control records. Hopefully all 27 of these usability records can be matched back to the clinical questionairres (let's see)."
   ]
  },
  {
   "cell_type": "markdown",
   "metadata": {},
   "source": [
    "### Merging Clinical and Usability Records\n",
    "The intent of collecting email addresses was to be able to due more advanced modeling of results (adjusting for potential confounders). First, we'll see how viable it is to merge these two data sources and see any problems that occur. "
   ]
  },
  {
   "cell_type": "code",
   "execution_count": 10,
   "metadata": {},
   "outputs": [
    {
     "name": "stdout",
     "output_type": "stream",
     "text": [
      "('There are', 28, ' merged records available.')\n"
     ]
    }
   ],
   "source": [
    "merged_email = cq[['Please enter your Duke email address:','Start Date','trt']].merge(us[['Email address:','Location Latitude','trt']],\n",
    "                                                                 left_on='Please enter your Duke email address:',\n",
    "                                                                right_on='Email address:')\n",
    "print('There are', merged_email.shape[0], ' merged records available.')"
   ]
  },
  {
   "cell_type": "markdown",
   "metadata": {},
   "source": [
    "> #### Results\n",
    "In digging deeper into potential issues:\n",
    "    *1. It appears there was one user who did't answer any clinical questionairres, but did answer the usability questions\n",
    "    *2. It appears there was one user who answered the clinical questionairre for both clinical and intervention, but only answered the usability under control."
   ]
  },
  {
   "cell_type": "code",
   "execution_count": null,
   "metadata": {},
   "outputs": [],
   "source": []
  }
 ],
 "metadata": {
  "kernelspec": {
   "display_name": "Python 2",
   "language": "python",
   "name": "python2"
  },
  "language_info": {
   "codemirror_mode": {
    "name": "ipython",
    "version": 2
   },
   "file_extension": ".py",
   "mimetype": "text/x-python",
   "name": "python",
   "nbconvert_exporter": "python",
   "pygments_lexer": "ipython2",
   "version": "2.7.9"
  }
 },
 "nbformat": 4,
 "nbformat_minor": 1
}
