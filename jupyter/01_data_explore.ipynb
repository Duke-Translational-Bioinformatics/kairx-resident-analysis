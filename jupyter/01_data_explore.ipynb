{
 "cells": [
  {
   "cell_type": "markdown",
   "metadata": {},
   "source": [
    "# Data Explore\n",
    "The purpose of this notebook is to begin our initial investigation into the KAIRX resident experiment. We will see how many records we have, how many records we can match across surveys, and plausible analyses to complete"
   ]
  },
  {
   "cell_type": "code",
   "execution_count": 1,
   "metadata": {},
   "outputs": [
    {
     "name": "stdout",
     "output_type": "stream",
     "text": [
      "Clinical Questionairre Control (n= 14 ). There are  12  valid email addresses to merge to.\n",
      "Clinical Questionairre Intervention (n= 17 ). There are  17  valid email addresses to merge to.\n",
      "Usability Questionairre Control (n= 11 ). There are  11  valid email addresses to merge to.\n",
      "Usability Questionairre Intervention (n= 16 ). There are  16  valid email addresses to merge to.\n"
     ]
    }
   ],
   "source": [
    "%matplotlib inline\n",
    "import pandas as pd\n",
    "import json\n",
    "import numpy as np\n",
    "import matplotlib.pyplot as plt\n",
    "from textwrap import wrap\n",
    "\n",
    "cq_control = pd.read_csv(header=1,filepath_or_buffer=open(\"./data/KaiRx_Clinical_Questionnaire__Control.csv\",\"rb\"))\n",
    "cq_control['trt'] = 'control'\n",
    "np.sum(~pd.isnull(cq_control['Please enter your Duke email address: ']))\n",
    "print('Clinical Questionairre Control (n=', \n",
    "      cq_control.shape[0], \n",
    "      '). There are ', \n",
    "      np.sum(~pd.isnull(cq_control['Please enter your Duke email address: '])),\n",
    "     ' valid email addresses to merge to.')\n",
    "cq_interve = pd.read_csv(header=1,filepath_or_buffer=open(\"./data/KaiRx_Clinical_Questionnaire__Intervention.csv\",\"rb\"))\n",
    "cq_interve['trt'] = 'intervention'\n",
    "print('Clinical Questionairre Intervention (n=', \n",
    "      cq_interve.shape[0], \n",
    "      '). There are ', \n",
    "      np.sum(~pd.isnull(cq_interve['Please enter your Duke email address: '])),\n",
    "     ' valid email addresses to merge to.')\n",
    "\n",
    "#Clinical questionairre data\n",
    "cq = cq_control.append(cq_interve)\n",
    "\n",
    "\n",
    "us_control = pd.read_csv(header=1,filepath_or_buffer=open(\"./data/KaiRx_Usability_Survey_and_Feedback__Control.csv\",\"rb\"))\n",
    "us_control['trt'] = 'control'\n",
    "print('Usability Questionairre Control (n=', \n",
    "      us_control.shape[0], \n",
    "      '). There are ', \n",
    "      np.sum(~pd.isnull(us_control['Email address:'])),\n",
    "     ' valid email addresses to merge to.')\n",
    "us_interve = pd.read_csv(header=1,filepath_or_buffer=open(\"./data/KaiRx_Usability_Survey_and_Feedback__Intervention.csv\",\"rb\"))\n",
    "us_interve['trt'] = 'intervention'\n",
    "print('Usability Questionairre Intervention (n=', \n",
    "      us_interve.shape[0], \n",
    "      '). There are ', \n",
    "      np.sum(~pd.isnull(us_interve['Email address:'])),\n",
    "     ' valid email addresses to merge to.')\n",
    "\n",
    "us = us_control.append(us_interve)"
   ]
  },
  {
   "cell_type": "markdown",
   "metadata": {},
   "source": [
    "> #### Results\n",
    "From above, we can see that we have a total of (14+17=31) clinical questionairre records. *However*, it appears that we're missing two email addresses, so these two records will have to be dropped if we try to merge with the usability questionairre. We also find that we have (11+16=27) usability records. It appears that there are only 11 usability control records. Hopefully all 27 of these usability records can be matched back to the clinical questionairres (let's see)."
   ]
  },
  {
   "cell_type": "markdown",
   "metadata": {},
   "source": [
    "### Merging Clinical and Usability Records\n",
    "The intent of collecting email addresses was to be able to due more advanced modeling of results (adjusting for potential confounders). First, we'll see how viable it is to merge these two data sources and see any problems that occur. "
   ]
  },
  {
   "cell_type": "code",
   "execution_count": 2,
   "metadata": {},
   "outputs": [
    {
     "name": "stdout",
     "output_type": "stream",
     "text": [
      "There are 29  merged records available.\n"
     ]
    }
   ],
   "source": [
    "merged_email = cq[['Please enter your Duke email address: ','StartDate','trt']].merge(us[['Email address:','LocationLatitude','trt']],\n",
    "                                                                 left_on='Please enter your Duke email address: ',\n",
    "                                                                right_on='Email address:',\n",
    "                                                                 how='right')\n",
    "print('There are', merged_email.shape[0], ' merged records available.')"
   ]
  },
  {
   "cell_type": "markdown",
   "metadata": {},
   "source": [
    "> #### Results\n",
    "In digging deeper into potential issues:\n",
    "    *1. It appears there was one user who did't answer any clinical questionairres, but did answer the usability questions\n",
    "    *2. It appears there was one user who answered the clinical questionairre for both clinical and intervention, but only answered the usability under control."
   ]
  },
  {
   "cell_type": "markdown",
   "metadata": {},
   "source": [
    "#### Moving forward\n",
    "After an email discusson on the issue above, we decided to count scenario (2) above only once for the control and (1) we will remove all together becuase no clinical questions were answered, which would be dropped anyway from clinical questionairre analyses and could bias usability if the user didn't really understand or use the tool properly. The following is how we modify these records:"
   ]
  },
  {
   "cell_type": "code",
   "execution_count": 7,
   "metadata": {},
   "outputs": [],
   "source": [
    "cq_questions_of_interest = ['Q_TotalDuration', \n",
    "                            'trt',\n",
    "                            'Please enter your Duke email address: ', \n",
    "                            'Meet Mr. Smith. He is a 62 year old gentleman living in Durham, NC with his family. He has been s...', \n",
    "                            'Task 1: Diabetes 1. Which medication(s) is the patient currently taking for diabetes?', \n",
    "                            '2. Approximately how long has he been taking his diabetes medication(s)?', \n",
    "                            '3. Has he been compliant with his diabetes medication? How do you know? ', \n",
    "                            '4. You ask him about his diabetes medications and you can trust that he is telling you the truth...', \n",
    "                            '5. You see that he is currently on this maximum dose. You are wondering how recently this last ch...', \n",
    "                            '6. You realize that he has already taken the maximum dose of metformin for awhile without much ch...', \n",
    "                            '7. What was the starting dose of allopurinol prescribed for Mr. Smith? What was the last prescrib...', \n",
    "                            '8. Who prescribed his last refill of allopurinol? ', \n",
    "                            '9. You see a prescription but wonder if he has picked up his last prescription of allopurinol. Ba...', \n",
    "                            '10. He did not pick up his last allopurinol prescription at the pharmacy. What other agents was h...-a. No other medications have been prescribed for gout.', \n",
    "                            '10. He did not pick up his last allopurinol prescription at the pharmacy. What other agents was h...-b. Probenecid', \n",
    "                            '10. He did not pick up his last allopurinol prescription at the pharmacy. What other agents was h...-c. Naproxen', \n",
    "                            '10. He did not pick up his last allopurinol prescription at the pharmacy. What other agents was h...-d. Bupropion', \n",
    "                            '10. He did not pick up his last allopurinol prescription at the pharmacy. What other agents was h...-e. Colchicine', \n",
    "                            '11. After asking the patient about his gout, he explains that he has not picked up his gout medic...', \n",
    "                            'Task 2: Hypertension 1. Mr. Smith was diagnosed with hypertension 20 years ago. What was the firs...', \n",
    "                            '2. The patient’s blood pressure did not decrease in the 3 years after he was prescribed the thiaz...', \n",
    "                            '3. Over time, Mr. Smith’s blood pressure still continued to increase despite his compliance with...', \n",
    "                            '4. What do you suspect happened with his new antihypertensive regimen of HCTZ + ACE inhibitor tha...', \n",
    "                            '5. Despite Mr. Smith’s diligent adherence to his exercise and diet regimen and his past medicatio...', \n",
    "                            'Task 3: Depression 1. You continue with your check-up.The patient has a long-standing history o...-a. Selective serotonin reuptake inhibitors (SSRIs)', \n",
    "                            'Task 3: Depression 1. You continue with your check-up.The patient has a long-standing history o...-b. Selective norepinephrine reuptake inhibitors (SNRIs)', \n",
    "                            'Task 3: Depression 1. You continue with your check-up.The patient has a long-standing history o...-c. Tricyclic antidepressants (TCAs)', \n",
    "                            'Task 3: Depression 1. You continue with your check-up.The patient has a long-standing history o...-d. Monoamine oxidase inhibitors (MAOIs)', \n",
    "                            'Task 3: Depression 1. You continue with your check-up.The patient has a long-standing history o...-e. Atypical antidepressants', \n",
    "                            '2. Which drugs have been escalated in dose at least twice?(Check all that apply.)-a. Bupropion', \n",
    "                            '2. Which drugs have been escalated in dose at least twice?(Check all that apply.)-b. Sertraline', \n",
    "                            '2. Which drugs have been escalated in dose at least twice?(Check all that apply.)-c. Fluoxetine', \n",
    "                            '2. Which drugs have been escalated in dose at least twice?(Check all that apply.)-d. Duloxetine', \n",
    "                            '3. You ask Mr. Smith about the details of his depression medication changes in the past but he ha...', \n",
    "                            '4. You’d like to know what date that provider changed the medication so you can investigate the n...', \n",
    "                            '5. Why do you think the provider chose bupropion to prescribe in 2006? ',\n",
    "                            'Score-sum']\n",
    "\n",
    "\n",
    "us_questions_of_interest = ['Thank you for completing the interactive portion of this module! There is one last portion to com...',\n",
    "       'Ease of Use (SUS)-I think that I would like to use this application frequently.',\n",
    "       'Ease of Use (SUS)-I found the application unnecessarily complex.',\n",
    "       'Ease of Use (SUS)-I thought the application was easy to use.',\n",
    "       'Ease of Use (SUS)-I think that I would need the support of a technical person to be able to use this application.',\n",
    "       'Ease of Use (SUS)-I found the various functions in the application were well integrated.',\n",
    "       'Ease of Use (SUS)-I thought there was too much inconsistency in this application.',\n",
    "       'Ease of Use (SUS)-I would imagine that most people would learn to use this application very quickly.',\n",
    "       'Ease of Use (SUS)-I found the application very cumbersome to use.',\n",
    "       'Ease of Use (SUS)-I felt very confident using the application.',\n",
    "       'Ease of Use (SUS)-I needed to learn a lot of things before I could get going with this application.',\n",
    "       'Cognitive Workload (NASA-TLX)-How mentally demanding was the task?',\n",
    "       'Cognitive Workload (NASA-TLX)-How much time pressure did you feel?',\n",
    "       'Cognitive Workload (NASA-TLX)-How successful were you in accomplishing what you were asked to do?',\n",
    "       'Cognitive Workload (NASA-TLX)-How hard did you have to work to accomplish your level of performance?',\n",
    "       'Cognitive Workload (NASA-TLX)-How insecure, discouraged, irritated, stressed, and annoyed were you?',\n",
    "       'User Satisfaction-I believe this medication display would help improve my ability to manage patients’  medications.',\n",
    "       'User Satisfaction-I believe this medication display would aid me in providing a better treatment regimen for my patients.',\n",
    "       'User Satisfaction-I believe this medication display would improve patient outcomes.',\n",
    "       'Please leave any comments, suggestions, questions in the space below: ',\n",
    "       'Current Residency Year:', \n",
    "       'Email address:',\n",
    "       'trt']"
   ]
  },
  {
   "cell_type": "code",
   "execution_count": 8,
   "metadata": {},
   "outputs": [
    {
     "name": "stdout",
     "output_type": "stream",
     "text": [
      "The final main cohort consists of  25 records.  These are mapped to the usability survey\n"
     ]
    }
   ],
   "source": [
    "us_keep = us[us_questions_of_interest][us['Email address:']!='peter.hu@duke.edu']\n",
    "cq_keep = cq[cq_questions_of_interest]\n",
    "\n",
    "cq_keep = cq_keep[((cq_keep['Please enter your Duke email address: ']=='ahk18@duke.edu') & \n",
    "               (cq_keep['trt']!='intervention') |\n",
    "               (cq_keep['Please enter your Duke email address: ']!='ahk18@duke.edu'))]\n",
    "\n",
    "\n",
    "merged_email = cq_keep.merge(us_keep,\n",
    "                             left_on=['Please enter your Duke email address: ','trt'],\n",
    "                             right_on=['Email address:','trt'])\n",
    "\n",
    "merged_email.to_csv('./data/01_filtered_combined.csv',index=False)\n",
    "print('The final main cohort consists of ', merged_email.shape[0], 'records.  These are mapped to the usability survey')"
   ]
  },
  {
   "cell_type": "markdown",
   "metadata": {},
   "source": [
    "Notice the final cohort consists of **25 records**. This is becuase we also had to remove two records from the clinical questionairre control study where missing email addresses were located."
   ]
  },
  {
   "cell_type": "code",
   "execution_count": null,
   "metadata": {},
   "outputs": [],
   "source": []
  }
 ],
 "metadata": {
  "kernelspec": {
   "display_name": "Python 3",
   "language": "python",
   "name": "python3"
  },
  "language_info": {
   "codemirror_mode": {
    "name": "ipython",
    "version": 3
   },
   "file_extension": ".py",
   "mimetype": "text/x-python",
   "name": "python",
   "nbconvert_exporter": "python",
   "pygments_lexer": "ipython3",
   "version": "3.5.2"
  }
 },
 "nbformat": 4,
 "nbformat_minor": 1
}
