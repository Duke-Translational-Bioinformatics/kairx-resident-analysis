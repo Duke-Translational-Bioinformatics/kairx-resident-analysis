{
 "cells": [
  {
   "cell_type": "markdown",
   "metadata": {},
   "source": [
    "# Data Explore\n",
    "The purpose of this notebook is to begin our initial investigation into the KAIRX resident experiment. We will see how many records we have, how many records we can match across surveys, and plausible analyses to complete"
   ]
  },
  {
   "cell_type": "code",
   "execution_count": null,
   "metadata": {},
   "outputs": [],
   "source": [
    "%matplotlib inline\n",
    "import pandas as pd\n",
    "import json\n",
    "import numpy as np\n",
    "import matplotlib.pyplot as plt\n",
    "from textwrap import wrap\n",
    "\n",
    "cq_control = pd.read_csv(header=1,filepath_or_buffer=open(\"./med_student_materials/qualtrics_data/KaiRx_Clinical_Questionnaire__Control.csv\",\"rb\"))\n",
    "cq_interve = pd.read_csv(header=1,filepath_or_buffer=open(\"./med_student_materials/qualtrics_data/KaiRx_Clinical_Questionnaire__Intervention.csv\",\"rb\"))"
   ]
  }
 ],
 "metadata": {
  "kernelspec": {
   "display_name": "Python 3",
   "language": "python",
   "name": "python3"
  },
  "language_info": {
   "codemirror_mode": {
    "name": "ipython",
    "version": 3
   },
   "file_extension": ".py",
   "mimetype": "text/x-python",
   "name": "python",
   "nbconvert_exporter": "python",
   "pygments_lexer": "ipython3",
   "version": "3.5.2"
  }
 },
 "nbformat": 4,
 "nbformat_minor": 2
}
