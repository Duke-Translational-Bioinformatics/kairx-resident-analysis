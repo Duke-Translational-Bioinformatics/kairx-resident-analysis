{
 "cells": [
  {
   "cell_type": "markdown",
   "metadata": {},
   "source": [
    "# Clinical Questionnaire Only\n",
    "This notebook is restricted to only those analyses with clinical questionairre data.\n",
    "\n",
    "- [Our Cohort (n=25)](#main_cohort)"
   ]
  },
  {
   "cell_type": "code",
   "execution_count": 10,
   "metadata": {},
   "outputs": [],
   "source": [
    "%matplotlib inline\n",
    "import pandas as pd\n",
    "import json\n",
    "\n",
    "main_cohort = pd.read_csv('./data/01_filtered_combined.csv') \n",
    "main_cohort_c = main_cohort[main_cohort['trt']=='control']\n",
    "main_cohort_i = main_cohort[main_cohort['trt']=='intervention']"
   ]
  },
  {
   "cell_type": "markdown",
   "metadata": {},
   "source": [
    "<a id='main_cohort'></a>\n",
    "## Main Cohort\n",
    "\n",
    "- [Overall Score](#overall)\n",
    "- [Teir 1](#tier1)\n",
    "- [Teir 2](#tier2)\n",
    "- [Teir 3](#teir3)\n",
    "- [Time to Complete](#time)"
   ]
  },
  {
   "cell_type": "markdown",
   "metadata": {},
   "source": [
    "<a id='overall'></a>\n",
    "### Overall Score"
   ]
  },
  {
   "cell_type": "code",
   "execution_count": 11,
   "metadata": {},
   "outputs": [
    {
     "data": {
      "image/png": "[encoded data removed]",
      "text/plain": [
       "<matplotlib.figure.Figure at 0x7f458c87d048>"
      ]
     },
     "metadata": {},
     "output_type": "display_data"
    }
   ],
   "source": [
    "#Make a histogram\n",
    "import random\n",
    "import numpy\n",
    "import scipy.stats\n",
    "from matplotlib import pyplot\n",
    "\n",
    "x = main_cohort_c['Score-sum']\n",
    "y = main_cohort_i['Score-sum']\n",
    "\n",
    "bins = numpy.linspace(0, 28, 25)\n",
    "\n",
    "pyplot.hist(x, bins, alpha=0.5, label='Control')\n",
    "pyplot.hist(y, bins, alpha=0.5, label='Intervention')\n",
    "pyplot.legend(loc='upper left')\n",
    "pyplot.show()"
   ]
  },
  {
   "cell_type": "code",
   "execution_count": 12,
   "metadata": {},
   "outputs": [
    {
     "name": "stdout",
     "output_type": "stream",
     "text": [
      "Control Mean score is 13.5\n",
      "Intervention Mean score is 15.0666666667\n",
      "T Test results: \n",
      "Ttest_indResult(statistic=-0.85676489673402378, pvalue=0.40041382465838038)\n"
     ]
    }
   ],
   "source": [
    "print(\"Control Mean score is\", numpy.mean(x))\n",
    "print(\"Intervention Mean score is\", numpy.mean(y))\n",
    "\n",
    "print(\"T Test results: \")\n",
    "print(scipy.stats.ttest_ind(x,y))"
   ]
  },
  {
   "cell_type": "markdown",
   "metadata": {},
   "source": [
    "> #### Results\n",
    "The overal mean score is higher for the intervention group than the control group. However, because there are so few records, we do not have enough evidence to say anything with any level of certainty (p-value is > 0.05 and is 0.4)."
   ]
  },
  {
   "cell_type": "markdown",
   "metadata": {},
   "source": [
    "<a id='teir1'></a>\n",
    "### Teir 1 Questions\n",
    "In order to tally up teir 1 questions, we need to know what is right/wrong. For this, we downloaded the survey and need to parse to identify correct answers."
   ]
  },
  {
   "cell_type": "code",
   "execution_count": 15,
   "metadata": {},
   "outputs": [],
   "source": [
    "meta = json.load(open('./data/KaiRx_Clinical_Questionnaire_-_Control.qsf','r'))\n",
    "new = dict()\n",
    "for i,x in enumerate(meta.get('SurveyElements')):\n",
    "    payload = x.get('Payload')\n",
    "    if isinstance(payload,dict):\n",
    "        if any(\"GradingData\" in s for s in list(payload.keys())):\n",
    "            answers = payload.get('GradingData')\n",
    "            text = []\n",
    "            for z in answers:\n",
    "                answer = z.get('ChoiceID')\n",
    "                text.append(payload.get('Choices').get(answer).get('Display'))\n",
    "            new[payload.get('QuestionDescription')] = text\n",
    "            \n",
    "            \n",
    "#for each tiered question list, we explicitly label:\n",
    "tier1 = ['4. You ask him about his diabetes medications and you can trust that he is telling you the truth...',\n",
    "         '6. You realize that he has already taken the maximum dose of metformin for awhile without much ch...',\n",
    "         '7. What was the starting dose of allopurinol prescribed for Mr. Smith? What was the last prescrib...',\n",
    "         '8. Who prescribed his last refill of allopurinol? ',\n",
    "         '3. You ask Mr. Smith about the details of his depression medication changes in the past but he ha...',\n",
    "         'Task 1: Diabetes 1. Which medication(s) is the patient currently taking for diabetes?'\n",
    "         ] \n",
    "\n"
   ]
  },
  {
   "cell_type": "code",
   "execution_count": 31,
   "metadata": {},
   "outputs": [
    {
     "data": {
      "image/png": "[encoded data removed]",
      "text/plain": [
       "<matplotlib.figure.Figure at 0x7f458c700978>"
      ]
     },
     "metadata": {},
     "output_type": "display_data"
    }
   ],
   "source": [
    "#We'll need a function to provide a participant score\n",
    "def returnScore(row,qlist):\n",
    "    score=0\n",
    "    for x in qlist:\n",
    "        if '...' in x:\n",
    "            metax = x.split('...',1)[0]+'...'\n",
    "        elif '2. Which drugs have been escalated in dose' in x:\n",
    "            metax = '2. Which drugs have been escalated in dose at least twice?(Check all that apply.)'\n",
    "        else:\n",
    "            metax = x\n",
    "        if (row[x] in new.get(metax)):\n",
    "            score+=1\n",
    "    return(score)\n",
    "\n",
    "#and finally, we'll need to score each leg of the experiment\n",
    "tier1_control = main_cohort_c.apply(lambda row: returnScore(row,tier1),axis=1)\n",
    "tier1_interve = main_cohort_i.apply(lambda row: returnScore(row,tier1),axis=1)\n",
    "\n",
    "bins = numpy.linspace(0, 10, 8)\n",
    "\n",
    "pyplot.hist(tier1_control, bins, alpha=0.5, label='Control')\n",
    "pyplot.hist(tier1_interve, bins, alpha=0.5, label='Intervention')\n",
    "pyplot.legend(loc='upper left')\n",
    "pyplot.show()"
   ]
  },
  {
   "cell_type": "code",
   "execution_count": 17,
   "metadata": {},
   "outputs": [
    {
     "name": "stdout",
     "output_type": "stream",
     "text": [
      "Tier 1 Control Summary: \n",
      "count    10.000000\n",
      "mean      5.100000\n",
      "std       0.316228\n",
      "min       5.000000\n",
      "25%       5.000000\n",
      "50%       5.000000\n",
      "75%       5.000000\n",
      "max       6.000000\n",
      "dtype: float64\n",
      "\n",
      "\n",
      "Tier 1 Intervention Summary: \n",
      "count    15.000000\n",
      "mean      5.000000\n",
      "std       0.755929\n",
      "min       3.000000\n",
      "25%       5.000000\n",
      "50%       5.000000\n",
      "75%       5.000000\n",
      "max       6.000000\n",
      "dtype: float64\n"
     ]
    }
   ],
   "source": [
    "print('Tier 1 Control Summary: ')\n",
    "print(tier1_control.describe())\n",
    "print('\\n')\n",
    "print('Tier 1 Intervention Summary: ')\n",
    "print(tier1_interve.describe())"
   ]
  },
  {
   "cell_type": "code",
   "execution_count": 18,
   "metadata": {},
   "outputs": [
    {
     "name": "stdout",
     "output_type": "stream",
     "text": [
      "T Test results: \n",
      "Ttest_indResult(statistic=0.3937717356226571, pvalue=0.697376434870974)\n"
     ]
    }
   ],
   "source": [
    "print(\"T Test results: \")\n",
    "print(scipy.stats.ttest_ind(tier1_control,tier1_interve))"
   ]
  },
  {
   "cell_type": "markdown",
   "metadata": {},
   "source": [
    "<a id='teir2'></a>\n",
    "### Teir 2 Questions"
   ]
  },
  {
   "cell_type": "code",
   "execution_count": 23,
   "metadata": {},
   "outputs": [],
   "source": [
    "tier2 = ['2. Approximately how long has he been taking his diabetes medication(s)?',\n",
    "         '3. Has he been compliant with his diabetes medication? How do you know? ',\n",
    "         '5. You see that he is currently on this maximum dose. You are wondering how recently this last ch...',\n",
    "         '9. You see a prescription but wonder if he has picked up his last prescription of allopurinol. Ba...',\n",
    "         '10. He did not pick up his last allopurinol prescription at the pharmacy. What other agents was h...-c. Naproxen',\n",
    "         '10. He did not pick up his last allopurinol prescription at the pharmacy. What other agents was h...-e. Colchicine',\n",
    "         'Task 2: Hypertension 1. Mr. Smith was diagnosed with hypertension 20 years ago. What was the firs...',\n",
    "         '3. Over time, Mr. Smith’s blood pressure still continued to increase despite his compliance with...',\n",
    "         'Task 3: Depression 1. You continue with your check-up.The patient has a long-standing history o...-a. Selective serotonin reuptake inhibitors (SSRIs)',\n",
    "         'Task 3: Depression 1. You continue with your check-up.The patient has a long-standing history o...-e. Atypical antidepressants',\n",
    "         '2. Which drugs have been escalated in dose at least twice?(Check all that apply.)-b. Sertraline',\n",
    "         '2. Which drugs have been escalated in dose at least twice?(Check all that apply.)-c. Fluoxetine',\n",
    "         '4. You’d like to know what date that provider changed the medication so you can investigate the n...'\n",
    "         ]"
   ]
  },
  {
   "cell_type": "code",
   "execution_count": 32,
   "metadata": {},
   "outputs": [
    {
     "data": {
      "image/png": "[encoded data removed]",
      "text/plain": [
       "<matplotlib.figure.Figure at 0x7f458c75c320>"
      ]
     },
     "metadata": {},
     "output_type": "display_data"
    }
   ],
   "source": [
    "#comprehension         \n",
    "\n",
    "\n",
    "tier2_control = main_cohort_c.apply(lambda row: returnScore(row,tier2),axis=1)\n",
    "tier2_interve = main_cohort_i.apply(lambda row: returnScore(row,tier2),axis=1)\n",
    "\n",
    "bins = numpy.linspace(0, 15, 8)\n",
    "\n",
    "pyplot.hist(tier2_control, bins, alpha=0.5, label='Control')\n",
    "pyplot.hist(tier2_interve, bins, alpha=0.5, label='Intervention')\n",
    "pyplot.legend(loc='upper left')\n",
    "pyplot.show()"
   ]
  },
  {
   "cell_type": "code",
   "execution_count": 33,
   "metadata": {},
   "outputs": [
    {
     "name": "stdout",
     "output_type": "stream",
     "text": [
      "Tier 2 Control Summary: \n",
      "count    10.000000\n",
      "mean      6.900000\n",
      "std       2.601282\n",
      "min       3.000000\n",
      "25%       7.000000\n",
      "50%       7.000000\n",
      "75%       7.000000\n",
      "max      13.000000\n",
      "dtype: float64\n",
      "\n",
      "\n",
      "Tier 2 Intervention Summary: \n",
      "count    15.000000\n",
      "mean      7.600000\n",
      "std       2.922817\n",
      "min       2.000000\n",
      "25%       6.000000\n",
      "50%       7.000000\n",
      "75%       8.500000\n",
      "max      13.000000\n",
      "dtype: float64\n"
     ]
    }
   ],
   "source": [
    "print('Tier 2 Control Summary: ')\n",
    "print(tier2_control.describe())\n",
    "print('\\n')\n",
    "print('Tier 2 Intervention Summary: ')\n",
    "print(tier2_interve.describe())"
   ]
  },
  {
   "cell_type": "code",
   "execution_count": 34,
   "metadata": {},
   "outputs": [
    {
     "name": "stdout",
     "output_type": "stream",
     "text": [
      "T Test results: \n",
      "Ttest_indResult(statistic=-0.61206702147817327, pvalue=0.54649716316466401)\n"
     ]
    }
   ],
   "source": [
    "print(\"T Test results: \")\n",
    "print(scipy.stats.ttest_ind(tier2_control,tier2_interve))"
   ]
  },
  {
   "cell_type": "markdown",
   "metadata": {},
   "source": [
    "<a id='teir3'></a>\n",
    "### Teir 3 Questions"
   ]
  },
  {
   "cell_type": "code",
   "execution_count": 36,
   "metadata": {},
   "outputs": [
    {
     "data": {
      "image/png": "[encoded data removed]",
      "text/plain": [
       "<matplotlib.figure.Figure at 0x7f458c5806d8>"
      ]
     },
     "metadata": {},
     "output_type": "display_data"
    }
   ],
   "source": [
    "\n",
    "#projection\n",
    "tier3 = ['11. After asking the patient about his gout, he explains that he has not picked up his gout medic...',\n",
    "         '2. The patient’s blood pressure did not decrease in the 3 years after he was prescribed the thiaz...',\n",
    "         '4. What do you suspect happened with his new antihypertensive regimen of HCTZ + ACE inhibitor tha...',\n",
    "         '5. Despite Mr. Smith’s diligent adherence to his exercise and diet regimen and his past medicatio...',\n",
    "         '5. Why do you think the provider chose bupropion to prescribe in 2006? '\n",
    "         ]\n",
    "\n",
    "tier3_control = main_cohort_c.apply(lambda row: returnScore(row,tier3),axis=1)\n",
    "tier3_interve = main_cohort_i.apply(lambda row: returnScore(row,tier3),axis=1)\n",
    "\n",
    "bins = numpy.linspace(0, 8, 8)\n",
    "\n",
    "pyplot.hist(tier3_control, bins, alpha=0.5, label='Control')\n",
    "pyplot.hist(tier3_interve, bins, alpha=0.5, label='Intervention')\n",
    "pyplot.legend(loc='upper left')\n",
    "pyplot.show()"
   ]
  },
  {
   "cell_type": "code",
   "execution_count": 37,
   "metadata": {},
   "outputs": [
    {
     "name": "stdout",
     "output_type": "stream",
     "text": [
      "Tier 3 Control Summary: \n",
      "count    10.000000\n",
      "mean      1.500000\n",
      "std       1.581139\n",
      "min       0.000000\n",
      "25%       0.250000\n",
      "50%       1.000000\n",
      "75%       2.500000\n",
      "max       4.000000\n",
      "dtype: float64\n",
      "\n",
      "\n",
      "Tier 3 Intervention Summary: \n",
      "count    15.000000\n",
      "mean      2.466667\n",
      "std       1.407463\n",
      "min       0.000000\n",
      "25%       1.500000\n",
      "50%       2.000000\n",
      "75%       3.500000\n",
      "max       5.000000\n",
      "dtype: float64\n"
     ]
    }
   ],
   "source": [
    "print('Tier 3 Control Summary: ')\n",
    "print(tier3_control.describe())\n",
    "print('\\n')\n",
    "print('Tier 3 Intervention Summary: ')\n",
    "print(tier3_interve.describe())"
   ]
  },
  {
   "cell_type": "code",
   "execution_count": 38,
   "metadata": {},
   "outputs": [
    {
     "name": "stdout",
     "output_type": "stream",
     "text": [
      "T Test results: \n",
      "Ttest_indResult(statistic=-1.6022131342835977, pvalue=0.12275484762401706)\n"
     ]
    }
   ],
   "source": [
    "print(\"T Test results: \")\n",
    "print(scipy.stats.ttest_ind(tier3_control,tier3_interve))"
   ]
  },
  {
   "cell_type": "markdown",
   "metadata": {},
   "source": [
    "<a id='time'></a>\n",
    "### Time to complete"
   ]
  },
  {
   "cell_type": "code",
   "execution_count": 46,
   "metadata": {},
   "outputs": [
    {
     "data": {
      "image/png": "[encoded data removed]",
      "text/plain": [
       "<matplotlib.figure.Figure at 0x7f458c4eccc0>"
      ]
     },
     "metadata": {},
     "output_type": "display_data"
    }
   ],
   "source": [
    "x = main_cohort_c['Q_TotalDuration']\n",
    "x_min = x/60\n",
    "#x_min_trunc = x_min[x_min<250]\n",
    "y = main_cohort_i['Q_TotalDuration']\n",
    "y_min = y/60\n",
    "#y_min_trunc = y_min[y_min<250]\n",
    "\n",
    "bins = numpy.linspace(0, 20, 15)\n",
    "\n",
    "pyplot.hist(x_min, bins, alpha=0.5, label='Control')\n",
    "pyplot.hist(y_min, bins, alpha=0.5, label='Intervention')\n",
    "pyplot.legend(loc='upper right')\n",
    "pyplot.show()"
   ]
  },
  {
   "cell_type": "code",
   "execution_count": 47,
   "metadata": {},
   "outputs": [
    {
     "name": "stdout",
     "output_type": "stream",
     "text": [
      "Total Time Duration Control Summary: \n",
      "count    10.000000\n",
      "mean      7.980000\n",
      "std       0.136716\n",
      "min       7.600000\n",
      "25%       8.000000\n",
      "50%       8.008333\n",
      "75%       8.041667\n",
      "max       8.066667\n",
      "Name: Q_TotalDuration, dtype: float64\n",
      "\n",
      "\n",
      "Total Time Duration Intervention Summary: \n",
      "count    15.000000\n",
      "mean      7.946667\n",
      "std       0.561397\n",
      "min       6.666667\n",
      "25%       8.000000\n",
      "50%       8.016667\n",
      "75%       8.033333\n",
      "max       9.300000\n",
      "Name: Q_TotalDuration, dtype: float64\n"
     ]
    }
   ],
   "source": [
    "print('Total Time Duration Control Summary: ')\n",
    "print(x_min.describe())\n",
    "print('\\n')\n",
    "print('Total Time Duration Intervention Summary: ')\n",
    "print(y_min.describe())"
   ]
  },
  {
   "cell_type": "code",
   "execution_count": 48,
   "metadata": {},
   "outputs": [
    {
     "name": "stdout",
     "output_type": "stream",
     "text": [
      "Student's t-test restuls: \n",
      "*************************************************\n",
      "Ttest_indResult(statistic=0.18296128888991772, pvalue=0.85643161842280446)\n"
     ]
    }
   ],
   "source": [
    "print(\"Student's t-test restuls: \\n*************************************************\")\n",
    "print(scipy.stats.ttest_ind(x_min,y_min))"
   ]
  },
  {
   "cell_type": "code",
   "execution_count": null,
   "metadata": {},
   "outputs": [],
   "source": []
  }
 ],
 "metadata": {
  "kernelspec": {
   "display_name": "Python 3",
   "language": "python",
   "name": "python3"
  },
  "language_info": {
   "codemirror_mode": {
    "name": "ipython",
    "version": 3
   },
   "file_extension": ".py",
   "mimetype": "text/x-python",
   "name": "python",
   "nbconvert_exporter": "python",
   "pygments_lexer": "ipython3",
   "version": "3.5.2"
  }
 },
 "nbformat": 4,
 "nbformat_minor": 2
}
